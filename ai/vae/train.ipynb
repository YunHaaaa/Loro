{
 "cells": [
  {
   "cell_type": "code",
   "execution_count": null,
   "metadata": {},
   "outputs": [],
   "source": [
    "import torch\n",
    "from torch.utils.data import Dataset, TensorDataset, DataLoader\n",
    "\n",
    "from torch import nn, optim\n",
    "from torch.nn import functional as F\n",
    "from torchvision import datasets, transforms\n",
    "import torchaudio\n",
    "Resample = torchaudio.transforms.Resample(44100, 48000, resampling_method='kaiser_window')\n",
    "\n",
    "if torch.cuda.is_available():\n",
    "    device = 'cuda:0'\n",
    "    my_cuda = 1\n",
    "else: \n",
    "    device = 'cpu'\n",
    "    my_cuda = 0\n",
    "    \n",
    "Resample = Resample.to(device)\n",
    "\n",
    "from pathlib import Path\n",
    "import random\n",
    "import numpy as np\n",
    "from scipy import interpolate as sp_interpolate\n",
    "import json\n",
    "\n",
    "import librosa\n",
    "import librosa.display\n",
    "\n",
    "import soundfile as sf\n",
    "# import sounddevice as sd\n",
    "import configparser\n",
    "import random\n",
    "import json\n",
    "import matplotlib.pyplot as plt\n",
    "import IPython.display as display"
   ]
  },
  {
   "cell_type": "code",
   "execution_count": null,
   "metadata": {},
   "outputs": [],
   "source": [
    "sampling_rate = 44100\n",
    "sr = sampling_rate\n",
    "\n",
    "hop_length = 128\n",
    "\n",
    "segment_length = 1024\n",
    "n_units = 2048\n",
    "latent_dim = 256\n",
    "\n",
    "batch_size = 256\n",
    "\n",
    "audio_fold = Path(r'../vits2_pytorch/data/filelists/lolo_audio_sid_text_test_filelist.txt')\n",
    "audio = audio_fold\n",
    "lts_audio_files = [f for f in audio_fold.glob('*.wav')]"
   ]
  },
  {
   "cell_type": "code",
   "execution_count": null,
   "metadata": {},
   "outputs": [],
   "source": [
    "\n",
    "# Following should give you more than 0. Otherwise, the dataset is not in the right place. Please make sure that the following folder is there: rawaudiovae/content/2022-zkm-workshop\n",
    "\n",
    "len(lts_audio_files)"
   ]
  },
  {
   "cell_type": "code",
   "execution_count": null,
   "metadata": {},
   "outputs": [],
   "source": []
  },
  {
   "cell_type": "code",
   "execution_count": null,
   "metadata": {},
   "outputs": [],
   "source": []
  },
  {
   "cell_type": "code",
   "execution_count": null,
   "metadata": {},
   "outputs": [],
   "source": []
  }
 ],
 "metadata": {
  "language_info": {
   "name": "python"
  }
 },
 "nbformat": 4,
 "nbformat_minor": 2
}
